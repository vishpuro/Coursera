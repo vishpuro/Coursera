{
 "cells": [
  {
   "cell_type": "code",
   "execution_count": null,
   "id": "d52b6736-8e54-4e3e-b334-e0bb00b2d07e",
   "metadata": {},
   "outputs": [
    {
     "name": "stdout",
     "output_type": "stream",
     "text": [
      "Dash is running on http://127.0.0.1:8050/\n",
      "\n"
     ]
    },
    {
     "name": "stderr",
     "output_type": "stream",
     "text": [
      "C:\\Users\\Vishal\\AppData\\Local\\Temp\\ipykernel_23048\\792945499.py:4: UserWarning: \n",
      "The dash_html_components package is deprecated. Please replace\n",
      "`import dash_html_components as html` with `from dash import html`\n",
      "  import dash_html_components as html\n",
      "C:\\Users\\Vishal\\AppData\\Local\\Temp\\ipykernel_23048\\792945499.py:5: UserWarning: \n",
      "The dash_core_components package is deprecated. Please replace\n",
      "`import dash_core_components as dcc` with `from dash import dcc`\n",
      "  import dash_core_components as dcc\n"
     ]
    },
    {
     "name": "stdout",
     "output_type": "stream",
     "text": [
      " * Serving Flask app '__main__'\n",
      " * Debug mode: off\n"
     ]
    },
    {
     "name": "stderr",
     "output_type": "stream",
     "text": [
      "WARNING: This is a development server. Do not use it in a production deployment. Use a production WSGI server instead.\n",
      " * Running on http://127.0.0.1:8050\n",
      "Press CTRL+C to quit\n",
      "127.0.0.1 - - [13/Mar/2024 20:37:32] \"GET / HTTP/1.1\" 200 -\n",
      "127.0.0.1 - - [13/Mar/2024 20:37:32] \"GET /_dash-layout HTTP/1.1\" 200 -\n",
      "127.0.0.1 - - [13/Mar/2024 20:37:32] \"GET /_dash-dependencies HTTP/1.1\" 200 -\n",
      "127.0.0.1 - - [13/Mar/2024 20:37:32] \"GET /_favicon.ico?v=2.7.0 HTTP/1.1\" 200 -\n",
      "127.0.0.1 - - [13/Mar/2024 20:37:32] \"GET /_dash-component-suites/dash/dcc/async-dropdown.js HTTP/1.1\" 304 -\n",
      "127.0.0.1 - - [13/Mar/2024 20:37:32] \"GET /_dash-component-suites/dash/dcc/async-graph.js HTTP/1.1\" 304 -\n",
      "127.0.0.1 - - [13/Mar/2024 20:37:32] \"GET /_dash-component-suites/dash/dcc/async-plotlyjs.js HTTP/1.1\" 304 -\n",
      "127.0.0.1 - - [13/Mar/2024 20:37:32] \"GET /_dash-component-suites/dash/dcc/async-slider.js HTTP/1.1\" 304 -\n",
      "127.0.0.1 - - [13/Mar/2024 20:37:33] \"POST /_dash-update-component HTTP/1.1\" 200 -\n",
      "127.0.0.1 - - [13/Mar/2024 20:37:33] \"POST /_dash-update-component HTTP/1.1\" 200 -\n"
     ]
    }
   ],
   "source": [
    "# Import required libraries\n",
    "import pandas as pd\n",
    "import dash\n",
    "import dash_html_components as html\n",
    "import dash_core_components as dcc\n",
    "from dash.dependencies import Input, Output\n",
    "import plotly.express as px\n",
    "\n",
    "# Read the airline data into pandas dataframe\n",
    "spacex_df = pd.read_csv(\"spacex_launch_dash.csv\")\n",
    "max_payload = spacex_df['Payload Mass (kg)'].max()\n",
    "min_payload = spacex_df['Payload Mass (kg)'].min()\n",
    "\n",
    "# Create a dash application\n",
    "app = dash.Dash(__name__)\n",
    "\n",
    "# Create an app layout\n",
    "app.layout = html.Div(children=[html.H1('SpaceX Launch Records Dashboard',\n",
    "                                        style={'textAlign': 'center', 'color': '#503D36',\n",
    "                                               'font-size': 40}),\n",
    "                                # TASK 1: Add a dropdown list to enable Launch Site selection\n",
    "                                # The default select value is for ALL sites\n",
    "                                html.Div([html.Label(\"Select Launch Site: \"),\n",
    "                                        dcc.Dropdown(id='site-dropdown',\n",
    "                                                    options=[{'label':'All Sites','value':'ALL'}]+\n",
    "                                                    [{'label':i,'value':i} for i in spacex_df['Launch Site'].unique()],\n",
    "                                                    value='ALL',\n",
    "                                                    placeholder='launch site dropdown',\n",
    "                                                    searchable=True)]\n",
    "                                        ),\n",
    "                                html.Br(),\n",
    "\n",
    "                                # TASK 2: Add a pie chart to show the total successful launches count for all sites\n",
    "                                # If a specific launch site was selected, show the Success vs. Failed counts for the site\n",
    "                                html.Div(dcc.Graph(id='success-pie-chart')),\n",
    "                                html.Br(),\n",
    "\n",
    "                                html.P(\"Payload range (Kg):\"),\n",
    "                                # TASK 3: Add a slider to select payload range\n",
    "                                #dcc.RangeSlider(id='payload-slider',...)\n",
    "                                html.Div(dcc.RangeSlider(id='payload-slider',min=0, max=10000, step=1000,value=[min_payload, max_payload])),\n",
    "\n",
    "                                # TASK 4: Add a scatter chart to show the correlation between payload and launch success\n",
    "                                html.Div(dcc.Graph(id='success-payload-scatter-chart')),\n",
    "                                ])\n",
    "\n",
    "# TASK 2:\n",
    "# Add a callback function for `site-dropdown` as input, `success-pie-chart` as output\n",
    "@app.callback(Output(component_id='success-pie-chart',component_property='figure'),\n",
    "            Input(component_id='site-dropdown',component_property='value'))\n",
    "def get_pie_chart(entered_site):\n",
    "    \n",
    "    if entered_site == 'ALL':\n",
    "        filtered_df=spacex_df.groupby(by='Launch Site')['class'].sum().to_frame()\n",
    "        filtered_df.reset_index(inplace=True)\n",
    "\n",
    "        fig=px.pie(filtered_df,values='class',names='Launch Site',title='Proportion of Successful Launches by Site ')\n",
    "\n",
    "        return fig\n",
    "    else:\n",
    "        filtered_df=spacex_df[spacex_df['Launch Site']==entered_site].groupby(by='class')['Launch Site'].count().to_frame()\n",
    "        filtered_df.reset_index(inplace=True)\n",
    "        fig=px.pie(filtered_df,values='Launch Site',names='class',title='Percentage of Successful and Unsuccessful Launches for Site: '+ entered_site)\n",
    "        return fig\n",
    "    \n",
    "# TASK 4:\n",
    "# Add a callback function for `site-dropdown` and `payload-slider` as inputs, `success-payload-scatter-chart` as output\n",
    "@app.callback(Output(component_id='success-payload-scatter-chart',component_property='figure'),\n",
    "            [Input(component_id='site-dropdown',component_property='value'),\n",
    "            Input(component_id='payload-slider',component_property='value')\n",
    "            ])\n",
    "def get_scatter_chart(entered_site,slider_values):\n",
    "    if entered_site == 'ALL':\n",
    "        filtered_df=spacex_df[(spacex_df['Payload Mass (kg)']>=slider_values[0])&(spacex_df['Payload Mass (kg)']<=slider_values[1])]\n",
    "        fig=px.scatter(filtered_df,y='class',x='Payload Mass (kg)',color=\"Booster Version Category\",title='Scatter of Payload successes and failures colored by booster type for all launch sites')\n",
    "\n",
    "        return fig\n",
    "    else:\n",
    "        filtered_df=spacex_df[(spacex_df['Launch Site']==entered_site)&(spacex_df['Payload Mass (kg)']>=slider_values[0])&(spacex_df['Payload Mass (kg)']<=slider_values[1])]\n",
    "        fig=px.scatter(filtered_df,y='class',x='Payload Mass (kg)',color=\"Booster Version Category\",title='Scatter of Payload successes and failures colored by booster type for the launch site: '+ entered_site)\n",
    "        return fig\n",
    "\n",
    "# Run the app\n",
    "if __name__ == '__main__':\n",
    "    app.run_server()\n"
   ]
  },
  {
   "cell_type": "code",
   "execution_count": null,
   "id": "1a004331-b750-4491-89eb-6033ca771cde",
   "metadata": {},
   "outputs": [],
   "source": []
  }
 ],
 "metadata": {
  "kernelspec": {
   "display_name": "Python 3 (ipykernel)",
   "language": "python",
   "name": "python3"
  },
  "language_info": {
   "codemirror_mode": {
    "name": "ipython",
    "version": 3
   },
   "file_extension": ".py",
   "mimetype": "text/x-python",
   "name": "python",
   "nbconvert_exporter": "python",
   "pygments_lexer": "ipython3",
   "version": "3.10.4"
  }
 },
 "nbformat": 4,
 "nbformat_minor": 5
}
